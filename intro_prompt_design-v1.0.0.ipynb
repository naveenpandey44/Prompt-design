{
 "cells": [
  {
   "cell_type": "code",
   "execution_count": null,
   "metadata": {
    "id": "ur8xi4C7S06n"
   },
   "outputs": [],
   "source": [
    "# Copyright 2024 Google LLC\n",
    "#\n",
    "# Licensed under the Apache License, Version 2.0 (the \"License\");\n",
    "# you may not use this file except in compliance with the License.\n",
    "# You may obtain a copy of the License at\n",
    "#\n",
    "#     https://www.apache.org/licenses/LICENSE-2.0\n",
    "#\n",
    "# Unless required by applicable law or agreed to in writing, software\n",
    "# distributed under the License is distributed on an \"AS IS\" BASIS,\n",
    "# WITHOUT WARRANTIES OR CONDITIONS OF ANY KIND, either express or implied.\n",
    "# See the License for the specific language governing permissions and\n",
    "# limitations under the License."
   ]
  },
  {
   "cell_type": "markdown",
   "metadata": {
    "id": "JAPoU8Sm5E6e"
   },
   "source": [
    "# Prompt Design - Best Practices\n",
    "\n",
    "<table align=\"left\">\n",
    "  <td style=\"text-align: center\">\n",
    "    <a href=\"https://colab.research.google.com/github/GoogleCloudPlatform/generative-ai/blob/main/gemini/prompts/intro_prompt_design.ipynb\">\n",
    "      <img src=\"https://cloud.google.com/ml-engine/images/colab-logo-32px.png\" alt=\"Google Colaboratory logo\"><br> Open in Colab\n",
    "    </a>\n",
    "  </td>\n",
    "  <td style=\"text-align: center\">\n",
    "    <a href=\"https://console.cloud.google.com/vertex-ai/colab/import/https:%2F%2Fraw.githubusercontent.com%2FGoogleCloudPlatform%2Fgenerative-ai%2Fmain%2Fgemini%2Fprompts%2Fintro_prompt_design.ipynb\">\n",
    "      <img width=\"32px\" src=\"https://lh3.googleusercontent.com/JmcxdQi-qOpctIvWKgPtrzZdJJK-J3sWE1RsfjZNwshCFgE_9fULcNpuXYTilIR2hjwN\" alt=\"Google Cloud Colab Enterprise logo\"><br> Open in Colab Enterprise\n",
    "    </a>\n",
    "  </td>    \n",
    "  <td style=\"text-align: center\">\n",
    "    <a href=\"https://console.cloud.google.com/vertex-ai/workbench/deploy-notebook?download_url=https://raw.githubusercontent.com/GoogleCloudPlatform/generative-ai/main/gemini/prompts/intro_prompt_design.ipynb\">\n",
    "      <img src=\"https://lh3.googleusercontent.com/UiNooY4LUgW_oTvpsNhPpQzsstV5W8F7rYgxgGBD85cWJoLmrOzhVs_ksK_vgx40SHs7jCqkTkCk=e14-rj-sc0xffffff-h130-w32\" alt=\"Vertex AI logo\"><br> Open in Workbench\n",
    "    </a>\n",
    "  </td>\n",
    "  <td style=\"text-align: center\">\n",
    "    <a href=\"https://github.com/GoogleCloudPlatform/generative-ai/blob/main/gemini/prompts/intro_prompt_design.ipynb\">\n",
    "      <img src=\"https://cloud.google.com/ml-engine/images/github-logo-32px.png\" alt=\"GitHub logo\"><br> View on GitHub\n",
    "    </a>\n",
    "  </td>\n",
    "</table>"
   ]
  },
  {
   "cell_type": "markdown",
   "metadata": {
    "id": "84f0f73a0f76"
   },
   "source": [
    "| | | |\n",
    "|-|-|-|\n",
    "|Author(s) | [Polong Lin](https://github.com/polong-lin) | [Karl Weinmeister](https://github.com/kweinmeister)|"
   ]
  },
  {
   "cell_type": "markdown",
   "metadata": {
    "id": "tvgnzT1CKxrO"
   },
   "source": [
    "## Overview\n",
    "\n",
    "This notebook covers the essentials of prompt engineering, including some best practices.\n",
    "\n",
    "Learn more about prompt design in the [official documentation](https://cloud.google.com/vertex-ai/docs/generative-ai/text/text-overview).\n",
    "\n",
    "In this notebook, you learn best practices around prompt engineering -- how to design prompts to improve the quality of your responses. \n",
    "\n",
    "This notebook covers the following best practices for prompt engineering:\n",
    "\n",
    "- Be concise\n",
    "- Be specific and well-defined\n",
    "- Ask one task at a time\n",
    "- Turn generative tasks into classification tasks\n",
    "- Improve response quality by including examples"
   ]
  },
  {
   "cell_type": "markdown",
   "metadata": {
    "id": "61RBz8LLbxCR"
   },
   "source": [
    "## Getting Started"
   ]
  },
  {
   "cell_type": "markdown",
   "metadata": {
    "id": "No17Cw5hgx12"
   },
   "source": [
    "### Install Vertex AI SDK and other required packages\n"
   ]
  },
  {
   "cell_type": "code",
   "execution_count": null,
   "metadata": {
    "id": "tFy3H3aPgx12",
    "tags": []
   },
   "outputs": [],
   "source": [
    "%pip install --upgrade --user --quiet google-cloud-aiplatform"
   ]
  },
  {
   "cell_type": "markdown",
   "metadata": {
    "id": "R5Xep4W9lq-Z"
   },
   "source": [
    "### Restart runtime\n",
    "\n",
    "To use the newly installed packages in this Jupyter runtime, you must restart the runtime. You can do this by running the cell below, which will restart the current kernel."
   ]
  },
  {
   "cell_type": "code",
   "execution_count": 1,
   "metadata": {
    "id": "XRvKdaPDTznN",
    "tags": []
   },
   "outputs": [
    {
     "data": {
      "text/plain": [
       "{'status': 'ok', 'restart': True}"
      ]
     },
     "execution_count": 1,
     "metadata": {},
     "output_type": "execute_result"
    }
   ],
   "source": [
    "import IPython\n",
    "\n",
    "app = IPython.Application.instance()\n",
    "app.kernel.do_shutdown(True)"
   ]
  },
  {
   "cell_type": "markdown",
   "metadata": {
    "id": "SbmM4z7FOBpM"
   },
   "source": [
    "<div class=\"alert alert-block alert-warning\">\n",
    "<b>⚠️ The kernel is going to restart. Please wait until it is finished before continuing to the next step. ⚠️</b>\n",
    "</div>\n"
   ]
  },
  {
   "cell_type": "markdown",
   "metadata": {
    "id": "dmWOrTJ3gx13"
   },
   "source": [
    "### Authenticate your notebook environment (Colab only)\n",
    "\n",
    "Authenticate your environment on Google Colab.\n"
   ]
  },
  {
   "cell_type": "code",
   "execution_count": 1,
   "metadata": {
    "id": "NyKGtVQjgx13",
    "tags": []
   },
   "outputs": [],
   "source": [
    "import sys\n",
    "\n",
    "if \"google.colab\" in sys.modules:\n",
    "    from google.colab import auth\n",
    "\n",
    "    auth.authenticate_user()"
   ]
  },
  {
   "cell_type": "markdown",
   "metadata": {
    "id": "DF4l8DTdWgPY"
   },
   "source": [
    "### Set Google Cloud project information and initialize Vertex AI SDK\n",
    "\n",
    "To get started using Vertex AI, you must have an existing Google Cloud project and [enable the Vertex AI API](https://console.cloud.google.com/flows/enableapi?apiid=aiplatform.googleapis.com).\n",
    "\n",
    "Learn more about [setting up a project and a development environment](https://cloud.google.com/vertex-ai/docs/start/cloud-environment)."
   ]
  },
  {
   "cell_type": "code",
   "execution_count": 2,
   "metadata": {
    "id": "Nqwi-5ufWp_B",
    "tags": []
   },
   "outputs": [],
   "source": [
    "PROJECT_ID = \"qwiklabs-gcp-02-a93657cd2b30\"  # @param {type:\"string\"}\n",
    "LOCATION = \"us-central1\"  # @param {type:\"string\"}\n",
    "\n",
    "import vertexai\n",
    "\n",
    "vertexai.init(project=PROJECT_ID, location=LOCATION)"
   ]
  },
  {
   "cell_type": "code",
   "execution_count": 3,
   "metadata": {
    "id": "QqRWdPGmW3NJ",
    "tags": []
   },
   "outputs": [],
   "source": [
    "from vertexai.generative_models import GenerationConfig, GenerativeModel\n",
    "import time"
   ]
  },
  {
   "cell_type": "markdown",
   "metadata": {
    "id": "OnFPpCRtXRl4"
   },
   "source": [
    "### Load model"
   ]
  },
  {
   "cell_type": "code",
   "execution_count": 4,
   "metadata": {
    "id": "IQYu_9SvXQah",
    "tags": []
   },
   "outputs": [],
   "source": [
    "model = GenerativeModel(\"gemini-1.5-flash\")"
   ]
  },
  {
   "cell_type": "code",
   "execution_count": 5,
   "metadata": {
    "tags": []
   },
   "outputs": [],
   "source": [
    "import time\n",
    "\n",
    "def call_gemini(prompt, generation_config=GenerationConfig(temperature=1.0)):\n",
    "    wait_time = 1\n",
    "    while True:\n",
    "        try:\n",
    "            response = model.generate_content(prompt, generation_config=generation_config).text\n",
    "            return response\n",
    "            break  # Exit the loop if successful\n",
    "        except Exception as e:  # Replace with the actual exception type\n",
    "            time.sleep(wait_time)\n",
    "            wait_time *= 2  # Double the wait time\n",
    "\n",
    "def send_message_gemini(model, prompt):    \n",
    "    wait_time = 1\n",
    "    while True:\n",
    "        try:\n",
    "            response = model.send_message(prompt).text\n",
    "            return response\n",
    "            break  # Exit the loop if successful\n",
    "        except Exception as e:  # Replace with the actual exception type\n",
    "            time.sleep(wait_time)\n",
    "            wait_time *= 2  # Double the wait time"
   ]
  },
  {
   "cell_type": "markdown",
   "metadata": {
    "id": "cVOtUNJ5X0PY"
   },
   "source": [
    "## Prompt engineering best practices"
   ]
  },
  {
   "cell_type": "markdown",
   "metadata": {
    "id": "uv_e0fEPX60q"
   },
   "source": [
    "Prompt engineering is all about how to design your prompts so that the response is what you were indeed hoping to see.\n",
    "\n",
    "The idea of using \"unfancy\" prompts is to minimize the noise in your prompt to reduce the possibility of the LLM misinterpreting the intent of the prompt. Below are a few guidelines on how to engineer \"unfancy\" prompts.\n",
    "\n",
    "In this section, you'll cover the following best practices when engineering prompts:\n",
    "\n",
    "* Be concise\n",
    "* Be specific, and well-defined\n",
    "* Ask one task at a time\n",
    "* Improve response quality by including examples\n",
    "* Turn generative tasks to classification tasks to improve safety"
   ]
  },
  {
   "cell_type": "markdown",
   "metadata": {
    "id": "0pY4XX0OX9_Y"
   },
   "source": [
    "### Be concise"
   ]
  },
  {
   "cell_type": "markdown",
   "metadata": {
    "id": "xlRpxyxGYA1K"
   },
   "source": [
    "🛑 Not recommended. The prompt below is unnecessarily verbose."
   ]
  },
  {
   "cell_type": "code",
   "execution_count": 6,
   "metadata": {
    "id": "YKV4G-CfXdbi",
    "tags": []
   },
   "outputs": [
    {
     "name": "stdout",
     "output_type": "stream",
     "text": [
      "Here are some names for a flower shop specializing in dried flowers, playing with different themes and styles:\n",
      "\n",
      "**Whimsical & Romantic:**\n",
      "\n",
      "* Whispers of Bloom\n",
      "* The Dried Petal\n",
      "* Evergreen & Lace\n",
      "* Bloom & Bloom\n",
      "* Petal & Stone\n",
      "* The Wildflower Co.\n",
      "* Bloom & Co.\n",
      "* The Dried Bouquet\n",
      "* The Flower Whisperer\n",
      "\n",
      "**Modern & Minimalist:**\n",
      "\n",
      "* Flora & Fauna\n",
      "* The Bloom Bar\n",
      "* Bloom & Branch\n",
      "* The Paper Petal\n",
      "* The Dried Garden\n",
      "* The Flower Lab\n",
      "* Botanical & Co.\n",
      "* The Dried Bloom\n",
      "\n",
      "**Rustic & Earthy:**\n",
      "\n",
      "* The Rustic Bouquet\n",
      "* The Dried Field\n",
      "* Gather & Bloom\n",
      "* The Wildflower Barn\n",
      "* The Dried Meadow\n",
      "* The Willow Branch\n",
      "* The Country Bloom\n",
      "\n",
      "**Unique & Playful:**\n",
      "\n",
      "* The Petal Press\n",
      "* The Flower Alchemist\n",
      "* The Flower Archivist\n",
      "* The Bloom & Bloom\n",
      "* The Botanical Cabinet\n",
      "* The Flower Vault\n",
      "\n",
      "**Tips for Choosing a Name:**\n",
      "\n",
      "* **Consider your target audience:** Who are you trying to attract?\n",
      "* **Keep it memorable and easy to pronounce:** You want people to remember your name.\n",
      "* **Make sure the name is available:** Check for trademark issues and domain name availability.\n",
      "* **Think about the overall feel you want to convey:** Do you want to be whimsical, modern, rustic, or unique?\n",
      "\n",
      "**Bonus:** You could also incorporate a location or a specific type of dried flower in the name. For example, \"The Lavender Fields\" or \"The Coastal Bloom.\" \n",
      "\n"
     ]
    }
   ],
   "source": [
    "prompt = \"What do you think could be a good name for a flower shop that specializes in selling bouquets of dried flowers more than fresh flowers?\"\n",
    "\n",
    "print(call_gemini(prompt))"
   ]
  },
  {
   "cell_type": "markdown",
   "metadata": {
    "id": "YrJexRHJYnmC"
   },
   "source": [
    "✅ Recommended. The prompt below is to the point and concise."
   ]
  },
  {
   "cell_type": "code",
   "execution_count": 7,
   "metadata": {
    "id": "VHetn9lCYrXB",
    "tags": []
   },
   "outputs": [
    {
     "name": "stdout",
     "output_type": "stream",
     "text": [
      "##  Flower Shop Names for Dried Bouquets:\n",
      "\n",
      "**Evocative & Romantic:**\n",
      "\n",
      "* Whispers of Bloom\n",
      "* Forever in Bloom\n",
      "* The Dried Bloom\n",
      "* Everlasting Blooms\n",
      "* Bloom & Beyond\n",
      "* Dried & Delightful\n",
      "* Petal & Paper\n",
      "* Timeless Blooms\n",
      "* The Dried Bouquet\n",
      "* Bloom & Co.\n",
      "\n",
      "**Unique & Playful:**\n",
      "\n",
      "* The Flower Muse\n",
      "* Poppy & Thistle\n",
      "* Petal Preservation\n",
      "* Bloom & Preserve\n",
      "* The Dried Garden\n",
      "* Wildflower & Co.\n",
      "* Botanical Reverie\n",
      "* Petal Past\n",
      "* The Dried Petal\n",
      "* The Bloom Box\n",
      "\n",
      "**Modern & Minimalist:**\n",
      "\n",
      "* Dried Florals\n",
      "* Bloom Lab\n",
      "* Bloom Co.\n",
      "* The Flower Atelier\n",
      "* Botanical Collective\n",
      "* Bloom & Co.\n",
      "* The Dried Bouquet Co.\n",
      "* Bloom & Co.\n",
      "* The Flower Studio\n",
      "* Bloom & More\n",
      "\n",
      "**Location-Based:**\n",
      "\n",
      "* [Your City] Dried Florals\n",
      "* [Your City] Bloom & Co.\n",
      "* The [Your Neighborhood] Flower Shop\n",
      "* [Your Street Name] Dried Flowers\n",
      "\n",
      "**Tips for Choosing a Name:**\n",
      "\n",
      "* **Keep it short and memorable.**\n",
      "* **Make it relevant to your products.**\n",
      "* **Consider your target audience.**\n",
      "* **Check if the name is available as a domain name and social media handle.**\n",
      "* **Say it out loud to make sure it sounds good.**\n",
      "\n",
      "**Bonus:** You can also consider using a play on words or a unique combination of words to make your shop name stand out.\n"
     ]
    }
   ],
   "source": [
    "prompt = \"Suggest a name for a flower shop that sells bouquets of dried flowers\"\n",
    "\n",
    "print(call_gemini(prompt))"
   ]
  },
  {
   "cell_type": "markdown",
   "metadata": {
    "id": "eXTAvdOHY0OC"
   },
   "source": [
    "### Be specific, and well-defined"
   ]
  },
  {
   "cell_type": "markdown",
   "metadata": {
    "id": "FTH4GEIgY1dp"
   },
   "source": [
    "Suppose that you want to brainstorm creative ways to describe Earth."
   ]
  },
  {
   "cell_type": "markdown",
   "metadata": {
    "id": "o5BmXBiGY4KC"
   },
   "source": [
    "🛑 The prompt below might be a bit too generic (which is certainly OK if you'd like to ask a generic question!)"
   ]
  },
  {
   "cell_type": "code",
   "execution_count": 8,
   "metadata": {
    "id": "eHBaMvv7Y6mR",
    "tags": []
   },
   "outputs": [
    {
     "name": "stdout",
     "output_type": "stream",
     "text": [
      "## Earth: Our Home Planet\n",
      "\n",
      "Earth is a vibrant and complex planet, the only known place in the universe that we know harbors life. Here are some key facts about our home:\n",
      "\n",
      "**Physical Characteristics:**\n",
      "\n",
      "* **Third planet from the Sun:** Orbiting at a distance of 93 million miles, Earth receives just the right amount of energy to support life.\n",
      "* **Rocky planet:** Composed primarily of iron, nickel, silicon, and oxygen.\n",
      "* **Atmosphere:** A protective blanket of gases, primarily nitrogen and oxygen, that shields us from harmful radiation and regulates temperature.\n",
      "* **Water:** Covering 71% of Earth's surface, water is essential for life and plays a crucial role in weather patterns and climate.\n",
      "* **Plate tectonics:** The Earth's crust is divided into massive plates that constantly move, creating mountains, volcanoes, and earthquakes.\n",
      "* **Magnetic field:** Generated by the Earth's core, the magnetic field protects us from the Sun's harmful solar wind.\n",
      "\n",
      "**Life on Earth:**\n",
      "\n",
      "* **Biosphere:** The zone on Earth that supports life, encompassing all living organisms and their environments.\n",
      "* **Diversity of life:** From microscopic bacteria to giant whales, Earth is home to an astounding variety of species.\n",
      "* **Human impact:** Human activity has significantly impacted Earth's environment, posing challenges such as climate change, pollution, and biodiversity loss.\n",
      "\n",
      "**Interesting Facts:**\n",
      "\n",
      "* Earth is the only planet in our solar system with liquid water on its surface.\n",
      "* The Earth's rotation is slowing down, though by a tiny amount each year.\n",
      "* The Earth's core is about as hot as the surface of the Sun.\n",
      "* The tallest mountain on Earth is Mount Everest, but if measured from its base on the ocean floor, Mauna Kea in Hawaii is taller.\n",
      "* Earth has one natural satellite: the Moon.\n",
      "\n",
      "**Exploring Earth:**\n",
      "\n",
      "We are constantly learning more about our planet through scientific research, technological advancements, and space exploration.  Understanding Earth is crucial to protecting its future and ensuring the well-being of its inhabitants.\n",
      "\n",
      "This is just a glimpse into the vastness and wonder of our planet.  There is so much more to learn and explore about Earth, its history, and its future. \n",
      "\n"
     ]
    }
   ],
   "source": [
    "prompt = \"Tell me about Earth\"\n",
    "\n",
    "print(call_gemini(prompt))"
   ]
  },
  {
   "cell_type": "markdown",
   "metadata": {
    "id": "4iyvEbteZnFL"
   },
   "source": [
    "✅ Recommended. The prompt below is specific and well-defined."
   ]
  },
  {
   "cell_type": "code",
   "execution_count": 9,
   "metadata": {
    "id": "JQ80z8urZnne",
    "tags": []
   },
   "outputs": [
    {
     "name": "stdout",
     "output_type": "stream",
     "text": [
      "## Earth: A Unique Jewel in the Solar System\n",
      "\n",
      "Here are some aspects that make Earth stand out among other planets:\n",
      "\n",
      "**1. Liquid Water:** Earth is the only known planet with **abundant liquid water** on its surface. This is crucial for life as we know it, playing a vital role in chemical reactions, transportation, and temperature regulation.\n",
      "\n",
      "**2. Plate Tectonics:**  Earth's **dynamic tectonic plates** constantly shift and interact, causing earthquakes, volcanoes, and mountain formation. This geological activity recycles the planet's crust and releases heat from the interior, creating a diverse and ever-changing environment.\n",
      "\n",
      "**3. Atmosphere and Climate:** Earth possesses a **stable and breathable atmosphere**, composed mainly of nitrogen and oxygen. This atmosphere protects us from harmful solar radiation, creates weather patterns, and moderates temperatures.\n",
      "\n",
      "**4. Biosphere:**  Earth is the only known planet to harbor a **thriving biosphere** with diverse ecosystems, a wide variety of life forms, and complex food webs. This biodiversity is a testament to the unique conditions that allow life to flourish.\n",
      "\n",
      "**5. Magnetic Field:**  Earth's **magnetic field** acts as a shield, protecting us from harmful solar winds and cosmic rays. It also contributes to the beauty of auroras, a unique spectacle visible at the poles.\n",
      "\n",
      "**6. Moon:**  Earth's **large moon** plays a significant role in stabilizing its axial tilt, leading to predictable seasons and influencing tidal patterns. It also serves as a significant source of inspiration and cultural significance for humanity.\n",
      "\n",
      "**7. Location in the Habitable Zone:**  Earth resides in the **Goldilocks zone** of our solar system, where the temperature is just right for liquid water to exist. This optimal distance from the sun ensures the conditions necessary for life to evolve.\n",
      "\n",
      "**8.  Carbon Cycle:**  Earth has a unique and intricate **carbon cycle** that effectively regulates climate. This process involves the exchange of carbon between the atmosphere, biosphere, geosphere, and hydrosphere, ensuring a delicate balance.\n",
      "\n",
      "**9.  Self-Healing Properties:**  Earth has demonstrated **remarkable resilience**, capable of adapting to and mitigating the effects of natural disasters and other changes. This inherent ability to heal and regenerate is a testament to the planet's dynamic and interconnected systems.\n",
      "\n",
      "**10.  Presence of Humanity:** While this is debatable whether it's a positive or negative aspect, Earth is the only known planet to host **intelligent life capable of complex thought and self-awareness**. Our existence and the impact we have on the planet are undoubtedly a defining characteristic of Earth's uniqueness.\n",
      "\n",
      "**In conclusion, Earth's unique combination of these factors makes it a truly exceptional and remarkable planet, a cradle of life and a testament to the wonders of the universe.**\n"
     ]
    }
   ],
   "source": [
    "prompt = \"Generate a list of ways that makes Earth unique compared to other planets\"\n",
    "\n",
    "print(call_gemini(prompt))"
   ]
  },
  {
   "cell_type": "markdown",
   "metadata": {
    "id": "R5kmfZYHZsJ7"
   },
   "source": [
    "### Ask one task at a time"
   ]
  },
  {
   "cell_type": "markdown",
   "metadata": {
    "id": "rsAezxeYZuUN"
   },
   "source": [
    "🛑 Not recommended. The prompt below has two parts to the question that could be asked separately."
   ]
  },
  {
   "cell_type": "code",
   "execution_count": 10,
   "metadata": {
    "id": "ElywPXpuZtWf",
    "tags": []
   },
   "outputs": [
    {
     "name": "stdout",
     "output_type": "stream",
     "text": [
      "Let's tackle these two very different questions!\n",
      "\n",
      "**Boiling Water**\n",
      "\n",
      "The best method of boiling water depends on what you're using it for and the resources you have. Here's a breakdown of common methods:\n",
      "\n",
      "* **Stovetop:** This is the most common method for everyday use. Simply fill a pot with water, place it on a burner, and turn it on high heat.\n",
      "* **Microwave:** This is quick and convenient for small amounts of water, but not ideal for larger volumes. \n",
      "* **Electric Kettle:** This is fast and energy-efficient, perfect for making tea or coffee.\n",
      "* **Camping Stove:** For outdoor use, a camping stove with a pot or kettle works well.\n",
      "\n",
      "**Why is the Sky Blue?**\n",
      "\n",
      "The sky appears blue due to a phenomenon called **Rayleigh scattering**. Here's the explanation:\n",
      "\n",
      "* **Sunlight is made up of all colors:**  White sunlight is actually a mix of all colors of the rainbow.\n",
      "* **Tiny particles scatter light:**  When sunlight enters the Earth's atmosphere, it interacts with tiny particles like nitrogen and oxygen molecules.\n",
      "* **Blue light scatters most:** Blue light has a shorter wavelength than other colors, so it scatters more easily in all directions by these particles.\n",
      "* **We see the scattered blue light:** As a result, we see the scattered blue light coming from all directions, making the sky appear blue.\n",
      "\n",
      "**Important Note:** The sky appears red at sunset and sunrise because the sunlight has to travel through more of the atmosphere. By the time it reaches us, most of the blue light has been scattered away, leaving behind the longer wavelengths of red and orange. \n",
      "\n"
     ]
    }
   ],
   "source": [
    "prompt = \"What's the best method of boiling water and why is the sky blue?\"\n",
    "\n",
    "print(call_gemini(prompt))"
   ]
  },
  {
   "cell_type": "markdown",
   "metadata": {
    "id": "ejzahazBZ8vk"
   },
   "source": [
    "✅ Recommended. The prompts below asks one task a time."
   ]
  },
  {
   "cell_type": "code",
   "execution_count": 11,
   "metadata": {
    "id": "C5ckp2F0Z_Ba",
    "tags": []
   },
   "outputs": [
    {
     "name": "stdout",
     "output_type": "stream",
     "text": [
      "There's no single \"best\" method, as the ideal approach depends on what you're using the boiling water for and what resources you have. Here are some common methods, each with its pros and cons:\n",
      "\n",
      "**1. Stovetop:**\n",
      "\n",
      "* **Pros:** Most common and accessible, good for larger quantities.\n",
      "* **Cons:** Can be slow, requires constant monitoring, potential for spills.\n",
      "\n",
      "**2. Electric Kettle:**\n",
      "\n",
      "* **Pros:** Fastest and most efficient, convenient for smaller amounts.\n",
      "* **Cons:** Can be bulky, not ideal for large quantities.\n",
      "\n",
      "**3. Microwave:**\n",
      "\n",
      "* **Pros:** Very fast for small amounts, convenient for single servings.\n",
      "* **Cons:** Not as efficient for larger amounts, can be uneven heating.\n",
      "\n",
      "**4. Camping Stove:**\n",
      "\n",
      "* **Pros:** Portable and versatile, great for outdoor use.\n",
      "* **Cons:** Requires fuel, can be less efficient than other methods.\n",
      "\n",
      "**Here's a breakdown of considerations:**\n",
      "\n",
      "* **Quantity:** For larger quantities, a stovetop or camping stove is best. For small amounts, a kettle or microwave is more efficient.\n",
      "* **Speed:** Electric kettles are generally the fastest, followed by microwaves. Stovetop boiling takes longer.\n",
      "* **Convenience:** Electric kettles and microwaves are the most convenient.\n",
      "* **Portability:** Camping stoves are designed for portability, while others are stationary.\n",
      "* **Energy Efficiency:** Electric kettles are often the most energy-efficient option. \n",
      "\n",
      "**For most everyday uses, an electric kettle is the most recommended choice due to its speed, convenience, and efficiency.** However, the best method for you ultimately depends on your specific needs and preferences. \n",
      "\n"
     ]
    }
   ],
   "source": [
    "prompt = \"What's the best method of boiling water?\"\n",
    "\n",
    "print(call_gemini(prompt))"
   ]
  },
  {
   "cell_type": "code",
   "execution_count": null,
   "metadata": {
    "id": "KwUzhud4aA89",
    "tags": []
   },
   "outputs": [],
   "source": [
    "prompt = \"Why is the sky blue?\"\n",
    "\n",
    "print(call_gemini(prompt))"
   ]
  },
  {
   "cell_type": "markdown",
   "metadata": {
    "id": "PJIL2RTQaGcT"
   },
   "source": [
    "### Watch out for hallucinations"
   ]
  },
  {
   "cell_type": "markdown",
   "metadata": {
    "id": "8Y8kYxrSaHE9"
   },
   "source": [
    "Although LLMs have been trained on a large amount of data, they can generate text containing statements not grounded in truth or reality; these responses from the LLM are often referred to as \"hallucinations\" due to their limited memorization capabilities. Note that simply prompting the LLM to provide a citation isn't a fix to this problem, as there are instances of LLMs providing false or inaccurate citations. Dealing with hallucinations is a fundamental challenge of LLMs and an ongoing research area, so it is important to be cognizant that LLMs may seem to give you confident, correct-sounding statements that are in fact incorrect.\n",
    "\n",
    "Note that if you intend to use LLMs for the creative use cases, hallucinating could actually be quite useful."
   ]
  },
  {
   "cell_type": "markdown",
   "metadata": {
    "id": "8NY5nAGeaJYS"
   },
   "source": [
    "Try the prompt like the one below repeatedly. We set the temperature to 1.0 so that it takes more risks in its choices. It's possible that it may provide an inaccurate, but confident answer."
   ]
  },
  {
   "cell_type": "code",
   "execution_count": 13,
   "metadata": {
    "id": "QALPjEILaM62",
    "tags": []
   },
   "outputs": [
    {
     "name": "stdout",
     "output_type": "stream",
     "text": [
      "I do not have access to real-time information, including the current date. To know what day it is today, please check a calendar or your device's date settings. \n",
      "\n"
     ]
    }
   ],
   "source": [
    "generation_config = GenerationConfig(temperature=1.0)\n",
    "\n",
    "prompt = \"What day is it today?\"\n",
    "\n",
    "print(call_gemini(prompt, generation_config))"
   ]
  },
  {
   "cell_type": "markdown",
   "metadata": {
    "id": "BRkwzbgRbhKt"
   },
   "source": [
    "Since LLMs do not have access to real-time information without further integrations, you may have noticed it hallucinates what day it is today in some of the outputs."
   ]
  },
  {
   "cell_type": "markdown",
   "metadata": {
    "id": "3c811e310d02"
   },
   "source": [
    "### Using system instructions to guardrail the model from irrelevant responses\n",
    "\n",
    "How can we attempt to reduce the chances of irrelevant responses and hallucinations?\n",
    "\n",
    "One way is to provide the LLM with [system instructions](https://cloud.google.com/vertex-ai/generative-ai/docs/multimodal/send-chat-prompts-gemini#system-instructions).\n",
    "\n",
    "Let's see how system instructions works and how you can use them to reduce hallucinations or irrelevant questions for a travel chatbot.\n",
    "\n",
    "Suppose we ask a simple question about one of Italy's most famous tourist spots."
   ]
  },
  {
   "cell_type": "code",
   "execution_count": 14,
   "metadata": {
    "id": "rB6zJU76biFK",
    "tags": []
   },
   "outputs": [
    {
     "name": "stdout",
     "output_type": "stream",
     "text": [
      "Milan is a vibrant city with a rich history and culture.  There are many places to see, depending on your interests. Some popular options include:\n",
      "\n",
      "* **Duomo di Milano:** The magnificent Duomo, a Gothic cathedral with stunning architecture and intricate details.\n",
      "* **Galleria Vittorio Emanuele II:** A grand shopping arcade with beautiful glass ceilings and high-end stores.\n",
      "* **Sforza Castle:** A medieval castle with museums, art galleries, and scenic gardens.\n",
      "* **Santa Maria delle Grazie:** Home to Leonardo da Vinci's iconic painting, The Last Supper.\n",
      "* **Teatro alla Scala:** A world-renowned opera house with impressive performances and a rich history.\n",
      "\n",
      "Do you have any specific interests in mind? For example, are you looking for historical sites, art museums, shopping, or something else?  Knowing your preferences would help me provide more tailored recommendations. \n",
      "\n"
     ]
    }
   ],
   "source": [
    "model_travel = GenerativeModel(\n",
    "    model_name=\"gemini-1.5-flash\",\n",
    "    system_instruction=[\n",
    "        \"Hello! You are an AI chatbot for a travel web site.\",\n",
    "        \"Your mission is to provide helpful queries for travelers.\",\n",
    "        \"Remember that before you answer a question, you must check to see if it complies with your mission.\",\n",
    "        \"If not, you can say, Sorry I can't answer that question.\",\n",
    "    ],\n",
    ")\n",
    "\n",
    "chat = model_travel.start_chat()\n",
    "\n",
    "prompt = \"What is the best place for sightseeing in Milan, Italy?\"\n",
    "\n",
    "print(send_message_gemini(chat, prompt))"
   ]
  },
  {
   "cell_type": "markdown",
   "metadata": {
    "id": "WZa-Qcf9cF4A"
   },
   "source": [
    "Now let us pretend to be a user asks the chatbot a question that is unrelated to travel."
   ]
  },
  {
   "cell_type": "code",
   "execution_count": 15,
   "metadata": {
    "id": "AZKBIDr2cGnu",
    "tags": []
   },
   "outputs": [
    {
     "name": "stdout",
     "output_type": "stream",
     "text": [
      "Sorry, I can't answer that question. I'm an AI chatbot for a travel website, so I'm not able to provide restaurant recommendations or meal suggestions. \n",
      "\n"
     ]
    }
   ],
   "source": [
    "prompt = \"What's for dinner?\"\n",
    "\n",
    "print(send_message_gemini(chat, prompt))"
   ]
  },
  {
   "cell_type": "markdown",
   "metadata": {
    "id": "JiUYIhwpctCy"
   },
   "source": [
    "You can see that this way, a guardrail in the prompt prevented the chatbot from veering off course."
   ]
  },
  {
   "cell_type": "markdown",
   "metadata": {
    "id": "ZuuDhA37cvmP"
   },
   "source": [
    "### Turn generative tasks into classification tasks to reduce output variability"
   ]
  },
  {
   "cell_type": "markdown",
   "metadata": {
    "id": "kUCUrsUzczmb"
   },
   "source": [
    "#### Generative tasks lead to higher output variability"
   ]
  },
  {
   "cell_type": "markdown",
   "metadata": {
    "id": "a1xASHAkc46n"
   },
   "source": [
    "The prompt below results in an open-ended response, useful for brainstorming, but response is highly variable."
   ]
  },
  {
   "cell_type": "code",
   "execution_count": 16,
   "metadata": {
    "id": "nPfXQWIacwRf",
    "tags": []
   },
   "outputs": [
    {
     "name": "stdout",
     "output_type": "stream",
     "text": [
      "Here are a few programming activity ideas tailored for high school students, focusing on different aspects of skill development:\n",
      "\n",
      "**1. Build a Simple Game:**\n",
      "\n",
      "* **Skill Focus:**  Problem-solving, logic, game design basics, event handling, user input.\n",
      "* **Project Ideas:**\n",
      "    * **Text-based adventure game:**  Use simple text prompts and user input to create a story-driven game.\n",
      "    * **Simple arcade game:**  Create a classic game like Pong, Snake, or Tetris using graphics and game logic.\n",
      "    * **Trivia game:**  Build a quiz with multiple-choice questions and scoring.\n",
      "* **Tools:**  Consider using Python (Pygame library), JavaScript (with HTML5 Canvas), or Scratch for a visual interface.\n",
      "\n",
      "**2. Create a Personal Website:**\n",
      "\n",
      "* **Skill Focus:**  HTML, CSS, basic JavaScript, web design principles, project organization.\n",
      "* **Project Ideas:**\n",
      "    * **Portfolio website:**  Showcase your skills, projects, and interests.\n",
      "    * **Informational website:**  Create a website about a topic you're passionate about, with articles or resources.\n",
      "    * **Blog:**  Share your thoughts and experiences, using a content management system (CMS) like WordPress or Jekyll.\n",
      "* **Tools:**  HTML, CSS, JavaScript are the core technologies, while frameworks like Bootstrap or Tailwind CSS simplify design.  Consider using a hosting service like GitHub Pages or Netlify to deploy your site.\n",
      "\n",
      "**3. Contribute to an Open-Source Project:**\n",
      "\n",
      "* **Skill Focus:**  Teamwork, version control (Git), reading code, collaboration, contributing to larger projects.\n",
      "* **Project Ideas:**\n",
      "    * **Find a project on GitHub:** Search for projects related to your interests (e.g., gaming, music, data analysis) and look for issues labeled as \"beginner-friendly.\"\n",
      "    * **Contribute to a school project:**  If you're working on a group project, use Git for version control and collaborative coding.\n",
      "* **Tools:**  GitHub is the most popular platform for open-source projects. You'll need to learn the basics of Git for version control.\n",
      "\n",
      "**4. Solve Coding Challenges:**\n",
      "\n",
      "* **Skill Focus:**  Problem-solving, algorithmic thinking, data structures, efficiency.\n",
      "* **Project Ideas:**\n",
      "    * **Online platforms:**  Websites like Codewars, LeetCode, HackerRank, and Project Euler offer coding challenges of varying difficulty.\n",
      "    * **Competitive programming:**  Consider participating in coding competitions for a more focused and timed challenge.\n",
      "* **Tools:**  You can use any language you're comfortable with, though some platforms have specific language support.\n",
      "\n",
      "**5. Automate a Task:**\n",
      "\n",
      "* **Skill Focus:**  Scripting, efficiency, automation, specific tools (depending on the task).\n",
      "* **Project Ideas:**\n",
      "    * **Automate file renaming:**  Write a script to bulk rename files based on specific criteria.\n",
      "    * **Scrape data from a website:**  Use web scraping tools to extract information from a webpage.\n",
      "    * **Create a personal assistant:**  Use a tool like Python's `pyautogui` to automate common tasks on your computer.\n",
      "* **Tools:**  Python, Bash scripting, or other tools like AutoHotkey (Windows) or Automator (Mac) can be used for automation.\n",
      "\n",
      "**Remember:**\n",
      "\n",
      "* **Choose a project you're passionate about:**  Motivation is key!\n",
      "* **Start small and iterate:**  Don't aim for perfection on the first try. Build gradually, adding features and complexity over time.\n",
      "* **Seek help and learn from others:**  There are countless resources online and in your school community for learning and support.\n",
      "* **Have fun and learn from the process!** \n",
      "\n"
     ]
    }
   ],
   "source": [
    "prompt = \"I'm a high school student. Recommend me a programming activity to improve my skills.\"\n",
    "\n",
    "print(call_gemini(prompt))"
   ]
  },
  {
   "cell_type": "markdown",
   "metadata": {
    "id": "iAmm9wPYc_1o"
   },
   "source": [
    "#### Classification tasks reduces output variability"
   ]
  },
  {
   "cell_type": "markdown",
   "metadata": {
    "id": "VvRpK_0GdCpf"
   },
   "source": [
    "The prompt below results in a choice and may be useful if you want the output to be easier to control."
   ]
  },
  {
   "cell_type": "code",
   "execution_count": 17,
   "metadata": {
    "id": "kYDKh0r2dAqo",
    "tags": []
   },
   "outputs": [
    {
     "name": "stdout",
     "output_type": "stream",
     "text": [
      "It's great that you're thinking about learning programming! All three languages have their merits, but here's a breakdown to help you decide:\n",
      "\n",
      "**a) Learn Python:**\n",
      "\n",
      "* **Why it's great:**\n",
      "    * **Beginner-friendly:** Python is known for its clear syntax, making it easier to learn than some other languages. \n",
      "    * **Versatile:** Python is widely used for web development, data science, machine learning, scripting, and more. \n",
      "    * **Strong community:** Python has a large and active community, meaning you'll find plenty of resources and support if you need it.\n",
      "* **Consider this:** If you're interested in areas like data science, machine learning, or web development, Python is a great choice to start with.\n",
      "\n",
      "**b) Learn JavaScript:**\n",
      "\n",
      "* **Why it's great:**\n",
      "    * **Interactive web development:** JavaScript is the language of the web, used to create interactive elements, animations, and dynamic websites.\n",
      "    * **High demand:** JavaScript developers are in high demand, making it a valuable skill to learn. \n",
      "    * **Growing ecosystem:** JavaScript's popularity is constantly growing, and there are many frameworks and libraries that expand its capabilities.\n",
      "* **Consider this:** If you're passionate about building websites or web applications, JavaScript is a must-learn.\n",
      "\n",
      "**c) Learn Fortran:**\n",
      "\n",
      "* **Why it's great:**\n",
      "    * **Scientific computing:** Fortran is still widely used in scientific and engineering applications, especially in high-performance computing. \n",
      "    * **Legacy code:** Many scientific software libraries are written in Fortran, so knowing it can be useful for maintaining and extending these programs.\n",
      "* **Consider this:** While Fortran is a powerful language, it might be less relevant for general-purpose programming or web development.  If you are specifically interested in scientific computing, Fortran is a good choice.\n",
      "\n",
      "**Recommendation:**\n",
      "\n",
      "* **For a beginner:** **Python** is the most beginner-friendly and versatile option. \n",
      "* **If you're interested in web development:** **JavaScript** is essential.\n",
      "* **If you're interested in scientific computing:** **Fortran** is still widely used in this field.\n",
      "\n",
      "Ultimately, the best language to learn depends on your interests and goals.  Explore each language a bit and see which one excites you the most. \n",
      "\n"
     ]
    }
   ],
   "source": [
    "prompt = \"\"\"I'm a high school student. Which of these activities do you suggest and why:\n",
    "a) learn Python\n",
    "b) learn JavaScript\n",
    "c) learn Fortran\n",
    "\"\"\"\n",
    "\n",
    "print(call_gemini(prompt))"
   ]
  },
  {
   "cell_type": "markdown",
   "metadata": {
    "id": "iTd60b1GdIsx"
   },
   "source": [
    "### Improve response quality by including examples"
   ]
  },
  {
   "cell_type": "markdown",
   "metadata": {
    "id": "yJi44NejdJYE"
   },
   "source": [
    "Another way to improve response quality is to add examples in your prompt. The LLM learns in-context from the examples on how to respond. Typically, one to five examples (shots) are enough to improve the quality of responses. Including too many examples can cause the model to over-fit the data and reduce the quality of responses.\n",
    "\n",
    "Similar to classical model training, the quality and distribution of the examples is very important. Pick examples that are representative of the scenarios that you need the model to learn, and keep the distribution of the examples (e.g. number of examples per class in the case of classification) aligned with your actual distribution."
   ]
  },
  {
   "cell_type": "markdown",
   "metadata": {
    "id": "sMbLginWdOKs"
   },
   "source": [
    "#### Zero-shot prompt"
   ]
  },
  {
   "cell_type": "markdown",
   "metadata": {
    "id": "Crh2Loi2dQ0v"
   },
   "source": [
    "Below is an example of zero-shot prompting, where you don't provide any examples to the LLM within the prompt itself."
   ]
  },
  {
   "cell_type": "code",
   "execution_count": null,
   "metadata": {
    "id": "-7myRc-SdTQ4",
    "tags": []
   },
   "outputs": [],
   "source": [
    "prompt = \"\"\"Decide whether a Tweet's sentiment is positive, neutral, or negative.\n",
    "\n",
    "Tweet: I loved the new YouTube video you made!\n",
    "Sentiment:\n",
    "\"\"\"\n",
    "\n",
    "print(call_gemini(prompt))"
   ]
  },
  {
   "cell_type": "markdown",
   "metadata": {
    "id": "ucRtPn9SdL64"
   },
   "source": [
    "#### One-shot prompt"
   ]
  },
  {
   "cell_type": "markdown",
   "metadata": {
    "id": "rs0gQH2vdYBi"
   },
   "source": [
    "Below is an example of one-shot prompting, where you provide one example to the LLM within the prompt to give some guidance on what type of response you want."
   ]
  },
  {
   "cell_type": "code",
   "execution_count": null,
   "metadata": {
    "id": "iEq-KxGYdaT5",
    "tags": []
   },
   "outputs": [],
   "source": [
    "prompt = \"\"\"Decide whether a Tweet's sentiment is positive, neutral, or negative.\n",
    "\n",
    "Tweet: I loved the new YouTube video you made!\n",
    "Sentiment: positive\n",
    "\n",
    "Tweet: That was awful. Super boring 😠\n",
    "Sentiment:\n",
    "\"\"\"\n",
    "\n",
    "print(call_gemini(prompt))"
   ]
  },
  {
   "cell_type": "markdown",
   "metadata": {
    "id": "JnKLjJzmdfL_"
   },
   "source": [
    "#### Few-shot prompt"
   ]
  },
  {
   "cell_type": "markdown",
   "metadata": {
    "id": "6Zv-9F5OdgI_"
   },
   "source": [
    "Below is an example of few-shot prompting, where you provide a few examples to the LLM within the prompt to give some guidance on what type of response you want."
   ]
  },
  {
   "cell_type": "code",
   "execution_count": null,
   "metadata": {
    "id": "u37P9tG4dk9S",
    "tags": []
   },
   "outputs": [],
   "source": [
    "prompt = \"\"\"Decide whether a Tweet's sentiment is positive, neutral, or negative.\n",
    "\n",
    "Tweet: I loved the new YouTube video you made!\n",
    "Sentiment: positive\n",
    "\n",
    "Tweet: That was awful. Super boring 😠\n",
    "Sentiment: negative\n",
    "\n",
    "Tweet: Something surprised me about this video - it was actually original. It was not the same old recycled stuff that I always see. Watch it - you will not regret it.\n",
    "Sentiment:\n",
    "\"\"\"\n",
    "\n",
    "print(call_gemini(prompt))"
   ]
  },
  {
   "cell_type": "markdown",
   "metadata": {
    "id": "wDMD3xb2dvX6"
   },
   "source": [
    "#### Choosing between zero-shot, one-shot, few-shot prompting methods"
   ]
  },
  {
   "cell_type": "markdown",
   "metadata": {
    "id": "s92W0YpNdxJp"
   },
   "source": [
    "Which prompt technique to use will solely depends on your goal. The zero-shot prompts are more open-ended and can give you creative answers, while one-shot and few-shot prompts teach the model how to behave so you can get more predictable answers that are consistent with the examples provided."
   ]
  },
  {
   "cell_type": "code",
   "execution_count": null,
   "metadata": {},
   "outputs": [],
   "source": []
  },
  {
   "cell_type": "code",
   "execution_count": null,
   "metadata": {},
   "outputs": [],
   "source": []
  },
  {
   "cell_type": "code",
   "execution_count": null,
   "metadata": {},
   "outputs": [],
   "source": []
  },
  {
   "cell_type": "code",
   "execution_count": null,
   "metadata": {},
   "outputs": [],
   "source": []
  },
  {
   "cell_type": "code",
   "execution_count": null,
   "metadata": {},
   "outputs": [],
   "source": []
  },
  {
   "cell_type": "code",
   "execution_count": null,
   "metadata": {},
   "outputs": [],
   "source": []
  },
  {
   "cell_type": "code",
   "execution_count": null,
   "metadata": {},
   "outputs": [],
   "source": []
  },
  {
   "cell_type": "code",
   "execution_count": null,
   "metadata": {},
   "outputs": [],
   "source": []
  },
  {
   "cell_type": "code",
   "execution_count": null,
   "metadata": {},
   "outputs": [],
   "source": []
  },
  {
   "cell_type": "code",
   "execution_count": null,
   "metadata": {},
   "outputs": [],
   "source": []
  },
  {
   "cell_type": "code",
   "execution_count": null,
   "metadata": {},
   "outputs": [],
   "source": []
  },
  {
   "cell_type": "code",
   "execution_count": null,
   "metadata": {},
   "outputs": [],
   "source": []
  }
 ],
 "metadata": {
  "colab": {
   "name": "intro_prompt_design.ipynb",
   "toc_visible": true
  },
  "environment": {
   "kernel": "conda-base-py",
   "name": "workbench-notebooks.m126",
   "type": "gcloud",
   "uri": "us-docker.pkg.dev/deeplearning-platform-release/gcr.io/workbench-notebooks:m126"
  },
  "kernelspec": {
   "display_name": "Python 3 (ipykernel) (Local) (Local)",
   "language": "python",
   "name": "conda-base-py"
  },
  "language_info": {
   "codemirror_mode": {
    "name": "ipython",
    "version": 3
   },
   "file_extension": ".py",
   "mimetype": "text/x-python",
   "name": "python",
   "nbconvert_exporter": "python",
   "pygments_lexer": "ipython3",
   "version": "3.10.15"
  }
 },
 "nbformat": 4,
 "nbformat_minor": 4
}
